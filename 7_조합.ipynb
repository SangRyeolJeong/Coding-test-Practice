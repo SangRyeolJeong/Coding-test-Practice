{
  "nbformat": 4,
  "nbformat_minor": 0,
  "metadata": {
    "colab": {
      "provenance": [],
      "authorship_tag": "ABX9TyO9fHi9Lu/KAeFJJUoJI6aE",
      "include_colab_link": true
    },
    "kernelspec": {
      "name": "python3",
      "display_name": "Python 3"
    },
    "language_info": {
      "name": "python"
    }
  },
  "cells": [
    {
      "cell_type": "markdown",
      "metadata": {
        "id": "view-in-github",
        "colab_type": "text"
      },
      "source": [
        "<a href=\"https://colab.research.google.com/github/SangRyeolJeong/Coding-test-Practice/blob/main/7_%EC%A1%B0%ED%95%A9.ipynb\" target=\"_parent\"><img src=\"https://colab.research.google.com/assets/colab-badge.svg\" alt=\"Open In Colab\"/></a>"
      ]
    },
    {
      "cell_type": "code",
      "execution_count": null,
      "metadata": {
        "id": "ZRE0aqUXkPX5"
      },
      "outputs": [],
      "source": [
        "#79\n",
        "N, K = map(int, input().split())\n",
        "D = [[0 for j in range(N+1)] for i in range(N+1)]\n",
        "\n",
        "for i in range(0, N+1):\n",
        "  D[i][1] = i\n",
        "  D[i][0] = 1\n",
        "  D[i][i] = 1\n",
        "\n",
        "for i in range(2, N+1):\n",
        "  for j in range(1, i):\n",
        "    D[i][j] = D[i-1][j] + D[i-1][j-1]\n",
        "\n",
        "print(D[N][K])"
      ]
    },
    {
      "cell_type": "code",
      "source": [
        "#80\n",
        "N, K = map(int, input().split())\n",
        "D = [[0 for j in range(N+1)] for i in range(N+1)]\n",
        "\n",
        "for i in range(0, N+1):\n",
        "  D[i][1] = i\n",
        "  D[i][0] = 1\n",
        "  D[i][i] = 1\n",
        "\n",
        "for i in range(2, N+1):\n",
        "  for j in range(1, i):\n",
        "    D[i][j] = D[i-1][j] + D[i-1][j-1]\n",
        "    D[i][j] = D[i][j] % 10007\n",
        "\n",
        "print(D[N][K])"
      ],
      "metadata": {
        "id": "vsa2MX7cst5D"
      },
      "execution_count": null,
      "outputs": []
    },
    {
      "cell_type": "code",
      "source": [
        "#81\n",
        "\n",
        "D = [[0 for j in range(15)] for i in range(15)]\n",
        "for i in range(1, 15):\n",
        "  D[i][1] = 1\n",
        "  D[0][i] = i\n",
        "\n",
        "for i in range(1, 15):\n",
        "  for j in range(2, 15):\n",
        "    D[i][j] = D[i][j-1] + D[i-1][j]\n",
        "\n",
        "T = int(input())\n",
        "\n",
        "for i in range(0, T):\n",
        "  K = int(input())\n",
        "  N = int(input())\n",
        "  print(D[K][N])"
      ],
      "metadata": {
        "id": "qK3vvIths6KB"
      },
      "execution_count": null,
      "outputs": []
    },
    {
      "cell_type": "code",
      "source": [
        "#82\n",
        "\n",
        "D = [[0 for j in range(31)] for i in range(31)]\n",
        "\n",
        "for i in range(0, 31):\n",
        "  D[i][1] = i\n",
        "  D[i][0] = 1\n",
        "  D[i][i] = 1\n",
        "\n",
        "for i in range(2, 31):\n",
        "  for j in range(1, i):\n",
        "    D[i][j] = D[i-1][j] + D[i-1][j-1]\n",
        "\n",
        "t = int(input())\n",
        "\n",
        "for i in range(0, t):\n",
        "  n, k = map(int, input().split())\n",
        "  print(D[n][k])"
      ],
      "metadata": {
        "id": "l--rwnNAu2DY"
      },
      "execution_count": null,
      "outputs": []
    },
    {
      "cell_type": "code",
      "source": [
        "#83\n",
        "\n",
        "D = [0] * 51\n",
        "probability = [0]  * 51\n",
        "M = int(input())\n",
        "D = list(map(int, input().split()))\n",
        "T = 0\n",
        "\n",
        "for i in range(0, M):\n",
        "  T += D[i]\n",
        "\n",
        "K = int(input())\n",
        "answer = 0\n",
        "\n",
        "\n",
        "for i in range(0, M):\n",
        "  if D[i] >= K:\n",
        "    probability[i] = 1\n",
        "    for k in range(0, K):\n",
        "      probability[i] = probability[i] * (D[i] - k) / (T - k)\n",
        "    answer += probability[i]\n",
        "\n",
        "print(answer)"
      ],
      "metadata": {
        "id": "Tjapw5I7vwO_"
      },
      "execution_count": null,
      "outputs": []
    },
    {
      "cell_type": "code",
      "source": [
        "#84\n",
        "\n",
        "F = [0] * 21\n",
        "S = [0] * 21\n",
        "visited = [False] * 21\n",
        "N = int(input())\n",
        "F[0] - 1\n",
        "\n",
        "for i in range(1, N+1):\n",
        "  F[i] = F[i-1] * i\n",
        "\n",
        "inputlist = list(map(int, input().split()))\n",
        "\n",
        "if inputlist[0] == 1:\n",
        "  K = inputlist[1]\n",
        "  for i in range(1, N+1):\n",
        "    cnt = 1\n",
        "    for j in range(1, N+1):\n",
        "      if visited[j]:\n",
        "        continue\n",
        "      if K <= cnt*F[N-i]:\n",
        "        K -= (cnt-1) * F[N-i]\n",
        "        S[i] = j\n",
        "        visited[j] = True\n",
        "        break\n",
        "      cnt += 1\n",
        "  for i in range(1, N+1):\n",
        "    print(S[i], end=' ')\n",
        "else:\n",
        "  K = 1\n",
        "  for i in range(1, N+1):\n",
        "    cnt = 0\n",
        "    for j in range(1, inputlist[i]):\n",
        "      if not visited[j]:\n",
        "        cnt += 1\n",
        "    K += cnt * F[N-i]\n",
        "    visited[inputlist[i]] = True\n",
        "  print(K)"
      ],
      "metadata": {
        "id": "9hGGdpsqxYFe"
      },
      "execution_count": null,
      "outputs": []
    },
    {
      "cell_type": "code",
      "source": [
        "#85\n",
        "N, M, K = map(int, input().split())\n",
        "D = [[0 for j in range(202)] for i in range(202)]\n",
        "\n",
        "for i in range(1, 201):\n",
        "  for j in range(1, i+1):\n",
        "    if j == 0 or j == i:\n",
        "      D[i][j] = 1\n",
        "    else:\n",
        "      D[i][j] = D[i-1][j-1] + D[i-1][j]\n",
        "      if D[i][j] > 100000000:\n",
        "        D[i][j] = 1000000001\n",
        "\n",
        "if D[N+M][M] < K:\n",
        "  print(-1)\n",
        "else:\n",
        "  while not (N == 0 and M == 0):\n",
        "    if D[N-1+M][M] >= K:\n",
        "      print(\"a\", end='')\n",
        "      N -= 1\n",
        "    else:\n",
        "      print(\"z\", end='')\n",
        "      K -= D[N-1+M][M]\n",
        "      M -= 1"
      ],
      "metadata": {
        "id": "n21awUNx0JzL"
      },
      "execution_count": null,
      "outputs": []
    },
    {
      "cell_type": "code",
      "source": [
        "#86\n",
        "\n",
        "N = int(input())\n",
        "mod = 10000000\n",
        "D= [0] * 1000001\n",
        "D[1] = 0\n",
        "D[2] = 1\n",
        "\n",
        "for i in range(3, N+1):\n",
        "  D[i] = (i-1) * (D[i-1] + D[i-2]) % mod\n",
        "\n",
        "print(D[N])"
      ],
      "metadata": {
        "id": "tYnTjF5i3ND2"
      },
      "execution_count": null,
      "outputs": []
    }
  ]
}