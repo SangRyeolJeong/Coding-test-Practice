{
  "nbformat": 4,
  "nbformat_minor": 0,
  "metadata": {
    "colab": {
      "provenance": [],
      "authorship_tag": "ABX9TyMvedvtdQzKCC+VPVFVHoRa",
      "include_colab_link": true
    },
    "kernelspec": {
      "name": "python3",
      "display_name": "Python 3"
    },
    "language_info": {
      "name": "python"
    }
  },
  "cells": [
    {
      "cell_type": "markdown",
      "metadata": {
        "id": "view-in-github",
        "colab_type": "text"
      },
      "source": [
        "<a href=\"https://colab.research.google.com/github/SangRyeolJeong/Coding-test-Practice/blob/main/8_%EB%8F%99%EC%A0%81%EA%B3%84%ED%9A%8D%EB%B2%95.ipynb\" target=\"_parent\"><img src=\"https://colab.research.google.com/assets/colab-badge.svg\" alt=\"Open In Colab\"/></a>"
      ]
    },
    {
      "cell_type": "code",
      "execution_count": null,
      "metadata": {
        "id": "7K45hZGn7vB7"
      },
      "outputs": [],
      "source": [
        "#87\n",
        "\n",
        "N = int(input())\n",
        "D = [0] * (N+1)\n",
        "D[1] = 0\n",
        "\n",
        "for i in range(2, N+1):\n",
        "  D[i] = D[i-1] + 1\n",
        "  if i % 2 == 0:\n",
        "    D[i] = min(D[i], D[i//2] + 1)\n",
        "  if i % 3 == 0:\n",
        "    D[i] = min(D[i], D[i//3] + 1)\n",
        "\n",
        "print(D[N])"
      ]
    },
    {
      "cell_type": "code",
      "source": [
        "N = int(input())\n",
        "D = [0] * (N+2)\n",
        "T = [0] * (N+1)\n",
        "P = [0] * (N+1)\n",
        "\n",
        "for i in range(1, N+1):\n",
        "  T[i], P[i] = map(int, input().split())\n",
        "\n",
        "for i in range(N, 0, -1):\n",
        "  if i + T[i] > N+1:\n",
        "    D[i] = D[i+1]\n",
        "  else:\n",
        "    D[i] = max(D[i+1], D[i + T[i]] + P[i])"
      ],
      "metadata": {
        "id": "R8zq0HOJ_KK1"
      },
      "execution_count": null,
      "outputs": []
    },
    {
      "cell_type": "code",
      "source": [
        "#89\n",
        "\n",
        "N = int(input())\n",
        "D = [[0 for j in range(2)] for i in range(N+1)]\n",
        "D[1][1] = 1\n",
        "D[1][0] = 0\n",
        "\n",
        "for i in range(2, N+1):\n",
        "  D[i][0] = D[i-1][0] + D[i-1][1]\n",
        "  D[i][1] = D[i-1][0]\n",
        "\n",
        "print(D[N][0] + D[N][1])"
      ],
      "metadata": {
        "id": "2Low_EVNB1qR"
      },
      "execution_count": null,
      "outputs": []
    },
    {
      "cell_type": "code",
      "source": [
        "#90\n",
        "\n",
        "mod = 10007\n",
        "N = int(input())\n",
        "D = [0] *(1001)\n",
        "D[1] = 1\n",
        "D[2] = 2\n",
        "\n",
        "for i in range(3, N+1):\n",
        "  D[i] = (D[i-1] + D[i-2]) %mod\n",
        "\n",
        "print(D[N])"
      ],
      "metadata": {
        "id": "ijTK5ktKGfZi"
      },
      "execution_count": null,
      "outputs": []
    },
    {
      "cell_type": "code",
      "source": [
        "#91\n",
        "mod = 100000000\n",
        "N = int(input())\n",
        "D = [[0 for j in range(11)] for i in range(N+1)]\n",
        "\n",
        "for i in range(1, 10):\n",
        "  D[1][i] = 1\n",
        "for i in range(2, N+1):\n",
        "  D[i][0] = D[i-1][1]\n",
        "  D[i][9] = D[i-1][8]\n",
        "  for j in range(1, 9):\n",
        "    D[i][j] = (D[i-1][j-1] + D[i-1][j+1]) % mod\n",
        "\n",
        "\n",
        "sum = 0\n",
        "\n",
        "for i in range(10):\n",
        "  sum = (sum + D[N][i]) % mod\n",
        "\n",
        "print(sum)"
      ],
      "metadata": {
        "id": "CUNxx__pGzr3"
      },
      "execution_count": null,
      "outputs": []
    },
    {
      "cell_type": "code",
      "source": [
        "N = int(input())\n",
        "A = list(map(int, input().split()))\n",
        "\n",
        "L = [0] * N\n",
        "L[0] = A[0]\n",
        "result = L[0]\n",
        "\n",
        "for i in range(1, N):\n",
        "  L[i] = max(L[i-1] + A[i], A[i])\n",
        "  result = max(result, L[i])\n",
        "\n",
        "R = [0] * N\n",
        "R[N-1] = A[N-1]\n",
        "\n",
        "for i in range(N-2, -1, -1):\n",
        "  R[i] = max(R[i+1] + A[i], A[i])\n",
        "\n",
        " for i in range(1, N-1):\n",
        "  temp = L[i-1] + R[i+1]\n",
        "  result = max(result, temp)\n",
        "\n",
        "print(result)"
      ],
      "metadata": {
        "id": "JglR8swRIJqH"
      },
      "execution_count": null,
      "outputs": []
    },
    {
      "cell_type": "code",
      "source": [
        "#93\n",
        "\n",
        "A = list(input())\n",
        "A.pop()\n",
        "B = list(input())\n",
        "B.pop()\n",
        "\n",
        "DP = [[0 for j in range(len(B) + 1)] for i in range(len(A) + 1)]\n",
        "path = []\n",
        "\n",
        "for i in range(1, len(A) + 1):\n",
        "  for j in range(1, len(B) + 1):\n",
        "    if A[i-1] = B[i-1]:\n",
        "      DP[i][j] = DP[i-1][j-1] + 1\n",
        "    else:\n",
        "      DP[i][j] = max(DP[i-1][j], DP[i][j-1])\n",
        "\n",
        "print(DP[len(A)][len(B)])\n",
        "\n",
        "def getText(r, c):\n",
        "  if r == 0 or c == 0:\n",
        "    return\n",
        "  if A[r-1] == B[c-1]:\n",
        "    path.append(A[r-1])\n",
        "    getText(r-1, c-1)\n",
        "  else:\n",
        "    if DP[r-1][c] > DP[r][c-1]:\n",
        "      getText(r-1, c)\n",
        "    else:\n",
        "      getText(r, c-1)\n",
        "\n",
        "getText(len(A), len(B))\n",
        "\n",
        "for i in range(len(path)-1, -1, -1):\n",
        "  print(path[i], end='')\n",
        "\n",
        "print()"
      ],
      "metadata": {
        "id": "4JkDLuHeJOws"
      },
      "execution_count": null,
      "outputs": []
    },
    {
      "cell_type": "code",
      "source": [
        "#94\n",
        "\n",
        "D = [[0 for j in range(1001)] fpr i in range(1001)]\n",
        "N, M = map(int, input().split())\n",
        "max = 0\n",
        "\n",
        "for i in range(0, N):\n",
        "  numbers = list(input())\n",
        "  for j in range(0, M):\n",
        "    D[i][j] = int(numbers[j])\n",
        "    if D[i][j] = 1 and j>0 and i>0:\n",
        "      D[i][j] = min(D[i-1][j-1], D[i-1][j], D[i][j-1]) + D[i][j]\n",
        "    if max < D[i][j]:\n",
        "      max = D[i][j]\n",
        "\n",
        "print(max*max)"
      ],
      "metadata": {
        "id": "sPCRnGAeNSyE"
      },
      "execution_count": null,
      "outputs": []
    },
    {
      "cell_type": "code",
      "source": [
        "mod = 1000000007\n",
        "N, L, R = map(int, input().split())\n",
        "D = [[[0 for k in range(101)]for j in range(101)] for i in range(101)]\n",
        "D[1][1][1] = 1\n",
        "\n",
        "for i in range(2, N+1):\n",
        "  for j in range(1, L+1):\n",
        "    for k in range(1, R+1):\n",
        "      D[i][j][k] = (D[i-1][j][k] * (i-2) + D[i-1][j-1][k] + D[i-1][j][k-1]) % mod\n",
        "\n",
        "print(D[N][L][R])"
      ],
      "metadata": {
        "id": "PwqTzSAvSVBk"
      },
      "execution_count": null,
      "outputs": []
    },
    {
      "cell_type": "code",
      "source": [
        "#96\n",
        "import sys\n",
        "dp = [[[sys,maxsize for k in range(5)] for j in range(5)] for i in range(5)]\n",
        "\n",
        "mp = [[0, 2, 2, 2, 2],\n",
        "      [2, 1, 3, 4 ,3],\n",
        "      [2, 3, 1, 3, 4],\n",
        "      [2, 4, 3, 1, 3],\n",
        "      [2, 3, 4, 3, 1]]\n",
        "\n",
        "s = 1\n",
        "dp[0][0][0] = 0\n",
        "\n",
        "inputlist = list(map(int, input().split()))\n",
        "index = 0\n",
        "\n",
        "while inputlist[index] != 0:\n",
        "  for i in range(5):\n",
        "    if n == i:\n",
        "      continue\n",
        "    for j in range(5):\n",
        "      dp[s][i][n] = min(dp[s-1][i][j] + mp[j][n], dp[s][i][n])\n",
        "\n",
        "  for j in range(5):\n",
        "    if n == j:\n",
        "      continue\n",
        "    for i in range(5):\n",
        "      dp[s][n][j] = min(dp[s-1][i][j] + mp[i][n], dp[s][n][j])\n",
        "\n",
        "  s += 1\n",
        "  index += 1\n",
        "\n",
        "\n",
        "s -= 1\n",
        "result = sys.maxsize\n",
        "\n",
        "for i in range(5):\n",
        "  for j in range(5):\n",
        "    result = min(result, dp[s][i][j])\n",
        "\n",
        "print(result)"
      ],
      "metadata": {
        "id": "XAENP-OqUvB9"
      },
      "execution_count": null,
      "outputs": []
    }
  ]
}