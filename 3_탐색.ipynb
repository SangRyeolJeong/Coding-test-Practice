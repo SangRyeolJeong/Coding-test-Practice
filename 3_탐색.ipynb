{
  "nbformat": 4,
  "nbformat_minor": 0,
  "metadata": {
    "colab": {
      "provenance": [],
      "authorship_tag": "ABX9TyMaWUXJ4sJ2Lra5itl8LHF5",
      "include_colab_link": true
    },
    "kernelspec": {
      "name": "python3",
      "display_name": "Python 3"
    },
    "language_info": {
      "name": "python"
    }
  },
  "cells": [
    {
      "cell_type": "markdown",
      "metadata": {
        "id": "view-in-github",
        "colab_type": "text"
      },
      "source": [
        "<a href=\"https://colab.research.google.com/github/SangRyeolJeong/Coding-test-Practice/blob/main/3_%ED%83%90%EC%83%89.ipynb\" target=\"_parent\"><img src=\"https://colab.research.google.com/assets/colab-badge.svg\" alt=\"Open In Colab\"/></a>"
      ]
    },
    {
      "cell_type": "code",
      "execution_count": null,
      "metadata": {
        "colab": {
          "base_uri": "https://localhost:8080/"
        },
        "id": "KbJJHa-IU7YF",
        "outputId": "3ec299e5-f7ea-4397-c484-af425989e1f1"
      },
      "outputs": [
        {
          "output_type": "stream",
          "name": "stdout",
          "text": [
            "6 5\n",
            "1 2\n",
            "2 5\n",
            "5 1\n",
            "3 4\n",
            "4 6\n",
            "2\n"
          ]
        }
      ],
      "source": [
        "# 만약 그래프가 모두 연결되어 있었다면 DFS는 1번 실행된다. 즉, 모든 노드르 탐색하는 데 실행한 DFS의 실행 횟수가 곧 연결 요소 개수와 같다.\n",
        "n, m = map(int, input().split())\n",
        "A = [[] for _ in range(n+1)]\n",
        "\n",
        "visited = [False] * (n+1)\n",
        "\n",
        "def dfs(v):\n",
        "  visited[v] = True\n",
        "  for i in A[v]:\n",
        "    if not visited[i]:\n",
        "      dfs(i)\n",
        "\n",
        "for i in range(m):\n",
        "  s, e = map(int, input().split())\n",
        "  A[s].append(e)\n",
        "  A[e].append(s)\n",
        "\n",
        "count = 0\n",
        "\n",
        "for i in range(1, n+1):\n",
        "  if not visited[i]:\n",
        "    count += 1\n",
        "    dfs(i)\n",
        "\n",
        "print(count)"
      ]
    },
    {
      "cell_type": "code",
      "source": [
        "#소수 체크하기\n",
        "N = int(input())\n",
        "\n",
        "def isPrime(num):\n",
        "  for i in range(2, int((num / 2) + 1)):\n",
        "    if num % i == 0:\n",
        "      return False\n",
        "  return True\n",
        "\n",
        "def dfs(number):\n",
        "  if len(str(number)) == N:\n",
        "    print(number)\n",
        "  else:\n",
        "    for i in range(1, 10):\n",
        "      if i % 2 == 0:\n",
        "        continue\n",
        "      if isPrime(number * 10 + i):\n",
        "        dfs(number * 10 + i)\n",
        "\n",
        "dfs(2)\n",
        "dfs(3)\n",
        "dfs(5)\n",
        "dfs(7)"
      ],
      "metadata": {
        "colab": {
          "base_uri": "https://localhost:8080/"
        },
        "id": "AxS-Zh1fXKuZ",
        "outputId": "3249acae-fa7c-4ec9-876b-c3a0a9e85b78"
      },
      "execution_count": null,
      "outputs": [
        {
          "output_type": "stream",
          "name": "stdout",
          "text": [
            "2\n",
            "23\n",
            "29\n",
            "31\n",
            "37\n",
            "53\n",
            "59\n",
            "71\n",
            "73\n",
            "79\n"
          ]
        }
      ]
    },
    {
      "cell_type": "code",
      "source": [
        "from typing import TypeGuard\n",
        "from pickle import TRUE\n",
        "N, M = map(int, input().split())\n",
        "A = [[] for _ in range(N+1)]\n",
        "visited = [False] * (N+1)\n",
        "arrive = False\n",
        "\n",
        "def dfs(v, depth):\n",
        "  global arrive\n",
        "  if depth == 5:\n",
        "    arrive = True\n",
        "    return\n",
        "  visited [v] = True\n",
        "  for i in A[v]:\n",
        "    if not visited[i]:\n",
        "      dfs(i, depth + 1)\n",
        "  visited[v] = False  # 한 경로에서 탐색이 끝나도, 다른 경로에서는 같은 노드를 다시 사용할 수 있어야 하므로, False로 바꿔준다.\n",
        "\n",
        "for _ in range(M):\n",
        "  s, e = map(int, input().split())\n",
        "  A[s].append(e)\n",
        "  A[e].append(s)\n",
        "\n",
        "for i in range(N):\n",
        "  dfs(i, 1)\n",
        "  if arrive:\n",
        "    break\n",
        "\n",
        "\n",
        "if arrive:\n",
        "  print(1)\n",
        "else:\n",
        "  print(0)"
      ],
      "metadata": {
        "colab": {
          "base_uri": "https://localhost:8080/"
        },
        "id": "3Si36EgQZJoN",
        "outputId": "c4f07c07-a423-4062-9b9f-6917fc84ed48"
      },
      "execution_count": null,
      "outputs": [
        {
          "output_type": "stream",
          "name": "stdout",
          "text": [
            "5 5\n",
            "0 1\n",
            "1 2\n",
            "2 3\n",
            "3 0\n",
            "1 4\n",
            "1\n"
          ]
        }
      ]
    },
    {
      "cell_type": "code",
      "source": [
        "# 백트래킹이란 가능한 한 모든 경우의 수를 탐색하되, 조건을 만족하지 않는 경로를 가지치기 하여 탐색 범위를 줄이는 것이 핵심이다.\n",
        "\n",
        "N, M = map(int, input().split())\n",
        "S = [0] * M\n",
        "visited = [False] * N\n",
        "\n",
        "def backtrack(length):\n",
        "  if length == M:\n",
        "    print(' '.join(str(x+1) for x in S))\n",
        "    return\n",
        "\n",
        "  for i in range(N):\n",
        "    if not visited[i]:\n",
        "      visited[i] = True\n",
        "      S[length] = i\n",
        "      backtrack(length + 1)\n",
        "      visited[i] = False\n",
        "\n",
        "backtrack(0)\n"
      ],
      "metadata": {
        "colab": {
          "base_uri": "https://localhost:8080/"
        },
        "id": "SAI3Ds-wdxmF",
        "outputId": "8b99a418-0625-4e7a-a506-ac377e0fd2f1"
      },
      "execution_count": null,
      "outputs": [
        {
          "output_type": "stream",
          "name": "stdout",
          "text": [
            "4 4\n",
            "1 2 3 4\n",
            "1 2 4 3\n",
            "1 3 2 4\n",
            "1 3 4 2\n",
            "1 4 2 3\n",
            "1 4 3 2\n",
            "2 1 3 4\n",
            "2 1 4 3\n",
            "2 3 1 4\n",
            "2 3 4 1\n",
            "2 4 1 3\n",
            "2 4 3 1\n",
            "3 1 2 4\n",
            "3 1 4 2\n",
            "3 2 1 4\n",
            "3 2 4 1\n",
            "3 4 1 2\n",
            "3 4 2 1\n",
            "4 1 2 3\n",
            "4 1 3 2\n",
            "4 2 1 3\n",
            "4 2 3 1\n",
            "4 3 1 2\n",
            "4 3 2 1\n"
          ]
        }
      ]
    },
    {
      "cell_type": "code",
      "source": [
        "N = int(input())\n",
        "cnt = 0\n",
        "\n",
        "cols = [False] * N\n",
        "diag1 = [False] * (2*N -1)\n",
        "diag2 = [False] * (2*N -1)\n",
        "\n",
        "def backtrack(row):\n",
        "  global cnt\n",
        "  if row == N:\n",
        "    cnt += 1\n",
        "    return\n",
        "  for col in range(N):\n",
        "    if not cols[col] and not diag1[row + col] and not diag2[row - col + N  -1]:\n",
        "      cols[col] = diag1[row + col] = diag2[row - col + N - 1] = True\n",
        "      backtrack(row + 1)\n",
        "      cols[col] = diag1[row + col] = diag2[row - col + N - 1] = False\n",
        "\n",
        "backtrack(0)\n",
        "print(cnt)"
      ],
      "metadata": {
        "colab": {
          "base_uri": "https://localhost:8080/"
        },
        "id": "6v6c70HWut9K",
        "outputId": "e78e4e07-f075-4faf-ce1f-66b2d31632d3"
      },
      "execution_count": null,
      "outputs": [
        {
          "output_type": "stream",
          "name": "stdout",
          "text": [
            "8\n",
            "92\n"
          ]
        }
      ]
    },
    {
      "cell_type": "code",
      "source": [
        "M = [list(map(int, input().split())) for _ in range(10)]\n",
        "\n",
        "S = [0, 5, 5, 5, 5, 5]\n",
        "result = float('inf')\n",
        "\n",
        "def fill(x, y, size, value):\n",
        "  for i in range(y, y+size):\n",
        "    for j in range(x, x+size):\n",
        "      M[i][j] = value\n",
        "\n",
        "def check(x, y, size):\n",
        "  if x + size > 10 or y + size > 10:\n",
        "    return False\n",
        "  for i in range(y, y+size):\n",
        "    for j in range(x, x+size):\n",
        "      if M[i][j] != 1:\n",
        "        return False\n",
        "\n",
        "  return True\n",
        "\n",
        "def backtrack(pos, used):\n",
        "  global result\n",
        "  if pos == 100:\n",
        "    result = min(result, used)\n",
        "    return\n",
        "  if used >= result:\n",
        "    return\n",
        "  x, y = divmod(pos, 10)\n",
        "  if M[y][x] == 1:\n",
        "    for size in range(5, 0, -1):\n",
        "      if S[size] > 0 and check(x, y, size):\n",
        "        S[size] -= 1\n",
        "        fill(x, y, size, 0)\n",
        "        backtrack(pos+1, used+1)\n",
        "        fill(x, y, size, 1)\n",
        "        S[size] += 1\n",
        "    else:\n",
        "      backtrack(pos+1, used)\n",
        "\n",
        "  backtrack(0, 0)\n",
        "  print(result if result != float('inf') else -1 )"
      ],
      "metadata": {
        "id": "mYAvDdXoxQ69"
      },
      "execution_count": null,
      "outputs": []
    },
    {
      "cell_type": "code",
      "source": [
        "from collections import deque\n",
        "N, M, start = map(int, input().split())\n",
        "A = [[] for i in range(N+1)]\n",
        "\n",
        "for _ in range(M):\n",
        "  s, e = map(int, input().split())\n",
        "  A[s].append(e)\n",
        "  A[e].append(s)\n",
        "\n",
        "for _ in range(N+1):\n",
        "  A[i].sort()\n",
        "\n",
        "def dfs(v):\n",
        "  print(v, end=' ')\n",
        "  visited[v] = True\n",
        "  for i in A[v]:\n",
        "    if not visited[i]:\n",
        "      dfs(i)\n",
        "\n",
        "visited = [False] * (N+1)\n",
        "dfs(start)\n",
        "\n",
        "\n",
        "def bfs(v):\n",
        "  queue = deque()\n",
        "  queue.append(v)\n",
        "  visited[v] = True\n",
        "  while queue:\n",
        "    now_node = queue.popleft()\n",
        "    print(now_node, end=' ')\n",
        "    for i in A[now_node]:\n",
        "      if not visited[i]:\n",
        "        visited[i] = True\n",
        "        queue.append(i)\n",
        "\n",
        "\n",
        "print()\n",
        "visited = [False] * (N+1)\n",
        "bfs(start)"
      ],
      "metadata": {
        "colab": {
          "base_uri": "https://localhost:8080/"
        },
        "id": "WVtVUflk-yKy",
        "outputId": "9a8f86d7-1067-4f95-c00d-808a9ccb3b43"
      },
      "execution_count": null,
      "outputs": [
        {
          "output_type": "stream",
          "name": "stdout",
          "text": [
            "5 5 3\n",
            "5 4\n",
            "5 2\n",
            "1 2\n",
            "3 4\n",
            "3 1\n",
            "3 4 5 2 1 \n",
            "3 4 1 5 2 "
          ]
        }
      ]
    },
    {
      "cell_type": "code",
      "source": [
        "from collections import deque\n",
        "\n",
        "N = int(input())\n",
        "A = [[]for _ in range(N+1)]\n",
        "\n",
        "for _ in range(N):\n",
        "  data = list(map(int, input().split()))\n",
        "  index = 0\n",
        "  S = data[index]\n",
        "  index += 1\n",
        "  while True:\n",
        "    E = data[index]\n",
        "    if E == -1:\n",
        "      break\n",
        "    V = data[index+1]\n",
        "    A[S].append((E, V))\n",
        "    index += 2\n",
        "\n",
        "distance = [0] * (N+1)\n",
        "visited = [False]* (N+1)\n",
        "\n",
        "def bfs(v):\n",
        "  queue = deque()\n",
        "  queue.append(v)\n",
        "  visited[v] = True\n",
        "  while queue:\n",
        "    now_node = queue.popleft()\n",
        "    for i in A[now_node]:\n",
        "      if not visited[i[0]]:\n",
        "        visited[i[0]] = True\n",
        "        queue.append(i[0])\n",
        "        distance[i[0]] = distance[now_node] + i[1]\n",
        "\n",
        "bfs(1)\n",
        "max = 1\n",
        "for i in range(2, N+1):\n",
        "  if distance[max] < distance[i]:\n",
        "     max = i\n",
        "\n",
        "distance = [0] * (N+1)\n",
        "visited = [False]* (N+1)\n",
        "bfs(max)\n",
        "distance.sort()\n",
        "print(distance(N))\n"
      ],
      "metadata": {
        "id": "Exk6re9ECKqb"
      },
      "execution_count": null,
      "outputs": []
    },
    {
      "cell_type": "code",
      "source": [
        "N = int(input())\n",
        "A = list(map(int, input().split()))\n",
        "A.sort()\n",
        "M = int(input())\n",
        "target_list = list(map(int, input().split()))\n",
        "\n",
        "for i in range(M):\n",
        "  find = False\n",
        "  target = target_list[i]\n",
        "\n",
        "  start = 0\n",
        "  end = len(A) -1\n",
        "  while start <= end:\n",
        "    midi = int((start + end) / 2)\n",
        "    midv = A[midi]\n",
        "    if midv > target:\n",
        "      end = midi - 1\n",
        "    elif midv < target:\n",
        "      start = midi + 1\n",
        "    else:\n",
        "      find = True\n",
        "      break\n",
        "  if find:\n",
        "    print(1)\n",
        "  else:\n",
        "    print(0)"
      ],
      "metadata": {
        "id": "heGct-rKFZo6"
      },
      "execution_count": null,
      "outputs": []
    },
    {
      "cell_type": "code",
      "source": [
        "N, M = map(int, input().split())\n",
        "A = list(map(int, input().split()))\n",
        "start = 0\n",
        "end = 0\n",
        "\n",
        "for i in A:\n",
        "  if start < i:\n",
        "    start = i\n",
        "  end += i\n",
        "\n",
        "while start<= end:\n",
        "  middle = int((start+end)/2)\n",
        "  sum = 0\n",
        "  count = 0\n",
        "  for i in range(N):\n",
        "    if sum + A[i] > middle:\n",
        "      count += 1\n",
        "      sum = 0\n",
        "    sum += A[i]\n",
        "\n",
        "  if sum != 0:\n",
        "    count += 1\n",
        "  if count > M:\n",
        "    start = middle + 1\n",
        "  else:\n",
        "    end = middle -1\n",
        "\n",
        "print(start)"
      ],
      "metadata": {
        "id": "Qm3_h3AjISKB"
      },
      "execution_count": null,
      "outputs": []
    },
    {
      "cell_type": "code",
      "source": [
        "N = int(input())\n",
        "K = int(input())\n",
        "start = 1\n",
        "end = K\n",
        "ans = 0\n",
        "\n",
        "while start <= end:\n",
        "  middle = int((start + end) / 2)\n",
        "  cnt = 0\n",
        "  for i in range(1, N+1):\n",
        "    cnt += min(int(middle / i), N)\n",
        "  if cnt < K:\n",
        "    start = middle + 1\n",
        "  else:\n",
        "    ans = middle\n",
        "    end = middle - 1\n",
        "\n",
        "print(ans)"
      ],
      "metadata": {
        "colab": {
          "base_uri": "https://localhost:8080/",
          "height": 257
        },
        "id": "eGqdPEC1JD9u",
        "outputId": "3e8106c7-28d6-4824-a78b-2092d88ca52b"
      },
      "execution_count": null,
      "outputs": [
        {
          "name": "stdout",
          "output_type": "stream",
          "text": [
            "3\n",
            "7\n"
          ]
        },
        {
          "output_type": "error",
          "ename": "KeyboardInterrupt",
          "evalue": "",
          "traceback": [
            "\u001b[0;31m---------------------------------------------------------------------------\u001b[0m",
            "\u001b[0;31mKeyboardInterrupt\u001b[0m                         Traceback (most recent call last)",
            "\u001b[0;32m/tmp/ipython-input-115138533.py\u001b[0m in \u001b[0;36m<cell line: 0>\u001b[0;34m()\u001b[0m\n\u001b[1;32m      8\u001b[0m   \u001b[0mmiddle\u001b[0m \u001b[0;34m=\u001b[0m \u001b[0mint\u001b[0m\u001b[0;34m(\u001b[0m\u001b[0;34m(\u001b[0m\u001b[0mstart\u001b[0m \u001b[0;34m+\u001b[0m \u001b[0mend\u001b[0m\u001b[0;34m)\u001b[0m \u001b[0;34m/\u001b[0m \u001b[0;36m2\u001b[0m\u001b[0;34m)\u001b[0m\u001b[0;34m\u001b[0m\u001b[0;34m\u001b[0m\u001b[0m\n\u001b[1;32m      9\u001b[0m   \u001b[0mcnt\u001b[0m \u001b[0;34m=\u001b[0m \u001b[0;36m0\u001b[0m\u001b[0;34m\u001b[0m\u001b[0;34m\u001b[0m\u001b[0m\n\u001b[0;32m---> 10\u001b[0;31m   \u001b[0;32mfor\u001b[0m \u001b[0mi\u001b[0m \u001b[0;32min\u001b[0m \u001b[0mrange\u001b[0m\u001b[0;34m(\u001b[0m\u001b[0;36m1\u001b[0m\u001b[0;34m,\u001b[0m \u001b[0mN\u001b[0m\u001b[0;34m+\u001b[0m\u001b[0;36m1\u001b[0m\u001b[0;34m)\u001b[0m\u001b[0;34m:\u001b[0m\u001b[0;34m\u001b[0m\u001b[0;34m\u001b[0m\u001b[0m\n\u001b[0m\u001b[1;32m     11\u001b[0m     \u001b[0mcnt\u001b[0m \u001b[0;34m+=\u001b[0m \u001b[0mmin\u001b[0m\u001b[0;34m(\u001b[0m\u001b[0mint\u001b[0m\u001b[0;34m(\u001b[0m\u001b[0mmiddle\u001b[0m \u001b[0;34m/\u001b[0m \u001b[0mi\u001b[0m\u001b[0;34m)\u001b[0m\u001b[0;34m,\u001b[0m \u001b[0mN\u001b[0m\u001b[0;34m)\u001b[0m\u001b[0;34m\u001b[0m\u001b[0;34m\u001b[0m\u001b[0m\n\u001b[1;32m     12\u001b[0m   \u001b[0;32mif\u001b[0m \u001b[0mcnt\u001b[0m \u001b[0;34m<\u001b[0m \u001b[0mK\u001b[0m\u001b[0;34m:\u001b[0m\u001b[0;34m\u001b[0m\u001b[0;34m\u001b[0m\u001b[0m\n",
            "\u001b[0;31mKeyboardInterrupt\u001b[0m: "
          ]
        }
      ]
    }
  ]
}