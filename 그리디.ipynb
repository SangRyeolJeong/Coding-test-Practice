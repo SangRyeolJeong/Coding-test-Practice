{
  "nbformat": 4,
  "nbformat_minor": 0,
  "metadata": {
    "colab": {
      "provenance": [],
      "authorship_tag": "ABX9TyPsFTOxVVUTw3V2cD/jbMMk",
      "include_colab_link": true
    },
    "kernelspec": {
      "name": "python3",
      "display_name": "Python 3"
    },
    "language_info": {
      "name": "python"
    }
  },
  "cells": [
    {
      "cell_type": "markdown",
      "metadata": {
        "id": "view-in-github",
        "colab_type": "text"
      },
      "source": [
        "<a href=\"https://colab.research.google.com/github/SangRyeolJeong/Coding-test-Practice/blob/main/%EA%B7%B8%EB%A6%AC%EB%94%94.ipynb\" target=\"_parent\"><img src=\"https://colab.research.google.com/assets/colab-badge.svg\" alt=\"Open In Colab\"/></a>"
      ]
    },
    {
      "cell_type": "code",
      "execution_count": null,
      "metadata": {
        "id": "rAFqiHaCiMUG"
      },
      "outputs": [],
      "source": [
        " N, K = map(int, input().split())\n",
        " A = [0] * N\n",
        "\n",
        " for i in range(N):\n",
        "  A[i] = int(input())\n",
        "\n",
        "  count = 0\n",
        "\n",
        "  for i in range(N-1, -1, -1):\n",
        "    if A[i] <= K:\n",
        "      count += int(K / A[i])\n",
        "      K = K % A[i]\n",
        "\n",
        "  print(count)"
      ]
    },
    {
      "cell_type": "code",
      "source": [
        "from queue import PriorityQueue\n",
        "N = int(input())\n",
        "pq = PriorityQueue()\n",
        "\n",
        "for _ in range(N):\n",
        "  date = int(input())\n",
        "  pq.put(date)\n",
        "\n",
        "\n",
        "data1 = 0\n",
        "data2 = 0\n",
        "sum = 0\n",
        "\n",
        "while pq.qsize() > 1:\n",
        "  data1 = pq.get()\n",
        "  data2 = pq.get()\n",
        "  temp = data1 + data2\n",
        "  sum += temp\n",
        "  pq.put(temp)\n",
        "\n",
        "print(sum)"
      ],
      "metadata": {
        "colab": {
          "base_uri": "https://localhost:8080/"
        },
        "id": "Gr9d7FVMnAor",
        "outputId": "c4901b9a-6d6d-48f1-e30a-641d643c6b65"
      },
      "execution_count": null,
      "outputs": [
        {
          "output_type": "stream",
          "name": "stdout",
          "text": [
            "3\n",
            "10\n",
            "20\n",
            "40\n",
            "100\n"
          ]
        }
      ]
    },
    {
      "cell_type": "code",
      "source": [
        "from queue import PriorityQueue\n",
        "\n",
        "N = int(input())\n",
        "pluspq = PriorityQueue()\n",
        "minuspq = PriorityQueue()\n",
        "one = 0\n",
        "zero = 0\n",
        "\n",
        "for i in range(N):\n",
        "  data = int(input())\n",
        "  if data > 1:\n",
        "    pluspq.put(data* -1)\n",
        "  elif data == 1:\n",
        "    one += 1\n",
        "  elif data == 0:\n",
        "    zero += 1\n",
        "  else:\n",
        "    minuspq.put(data)\n",
        "\n",
        "sum = 0\n",
        "\n",
        "while pluspq.qsize() > 1:\n",
        "  first = pluspq.get() * -1\n",
        "  second = pluspq.get() * -1\n",
        "  sum += first * second\n",
        "\n",
        "if pluspq.qsize() > 0:\n",
        "  sum += pluspq.get() * -1\n",
        "\n",
        "while minuspq.qsize() > 1:\n",
        "  first = minuspq.get()\n",
        "  second = minuspq.get()\n",
        "  sum += first * second\n",
        "\n",
        "if minuspq.qsize() > 0:\n",
        "  if zero == 0:\n",
        "    sum += minuspq.get()\n",
        "\n",
        "sum += one\n",
        "print(sum)"
      ],
      "metadata": {
        "id": "z7yXVVvlpoyu"
      },
      "execution_count": null,
      "outputs": []
    },
    {
      "cell_type": "code",
      "source": [
        "N = int(input())\n",
        "A = [[0]*2 for _ in range(N)]\n",
        "\n",
        "for i in range(N):\n",
        "  S, E = map(int, input().split())\n",
        "  A[i][0] = E\n",
        "  A[i][1] = S\n",
        "\n",
        "A.sort()\n",
        "count = 0\n",
        "end = -1\n",
        "\n",
        "for i in range(N):\n",
        "  if A[i][i] >= end:\n",
        "    count += 1\n",
        "    end = A[i][0]\n",
        "\n",
        "print(count)"
      ],
      "metadata": {
        "id": "Mjt0D3HLsmiY"
      },
      "execution_count": null,
      "outputs": []
    },
    {
      "cell_type": "code",
      "source": [
        "ans = 0\n",
        "A = list(map(str, input().split(\"-\")))\n",
        "\n",
        "def mysum(i):\n",
        "  sum = 0\n",
        "  temp = str(i).split(\"+\")\n",
        "  for i in temp:\n",
        "    sum += int(i)\n",
        "  return sum\n",
        "\n",
        "for i in range(len(A)):\n",
        "  temp = mysum(A[i])\n",
        "  if i == 0:\n",
        "    ans += temp\n",
        "  else:\n",
        "    ans -= temp\n",
        "\n",
        "print(ans)"
      ],
      "metadata": {
        "id": "_LRGXgwZty8b"
      },
      "execution_count": null,
      "outputs": []
    }
  ]
}